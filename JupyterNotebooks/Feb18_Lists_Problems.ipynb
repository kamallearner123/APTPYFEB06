{
 "cells": [
  {
   "cell_type": "code",
   "execution_count": 7,
   "id": "a057c17c-120f-452f-9879-4b3bfa276652",
   "metadata": {},
   "outputs": [
    {
     "name": "stdout",
     "output_type": "stream",
     "text": [
      "Popped element = 5 and remaining list [1, 2, 3, 4]\n",
      "List after insert at 0 [5, 1, 2, 3, 4]\n",
      "Popped element = 4 and remaining list [5, 1, 2, 3]\n",
      "List after insert at 0 [4, 5, 1, 2, 3]\n",
      "Popped element = 3 and remaining list [4, 5, 1, 2]\n",
      "List after insert at 0 [3, 4, 5, 1, 2]\n",
      "Popped element = 2 and remaining list [3, 4, 5, 1]\n",
      "List after insert at 0 [2, 3, 4, 5, 1]\n"
     ]
    }
   ],
   "source": [
    "\n",
    "# Rotate list for n times\n",
    "def rotate_list(list1, ntimes):\n",
    "    # pop\n",
    "    # insert\n",
    "    for i in range(ntimes): # 0,1\n",
    "        element = list1.pop()\n",
    "        print(f\"Popped element = {element} and remaining list {list1}\")\n",
    "        list1.insert(0, element)\n",
    "        print(f\"List after insert at 0 {list1}\")\n",
    "\n",
    "rotate_list([1,2,3,4,5],4) # [4,5,1,2,3]\n",
    "\n"
   ]
  },
  {
   "cell_type": "code",
   "execution_count": 13,
   "id": "08ee60ad-a779-4cb7-a574-aa83a8011700",
   "metadata": {},
   "outputs": [
    {
     "name": "stdout",
     "output_type": "stream",
     "text": [
      "[4, 5, 1, 2, 3]\n"
     ]
    }
   ],
   "source": [
    "l1 = [1,2,3,4,5]\n",
    "num = 7\n",
    "len1 = len(l1)\n",
    "\n",
    "if num > len1:\n",
    "    num = num%len1\n",
    "result = l1[len1-num:] + l1[0:len1-num] # 0 to 3\n",
    "print(result)\n"
   ]
  },
  {
   "cell_type": "code",
   "execution_count": 17,
   "id": "828971cd-598a-4a26-b7e3-3966eb2cac5c",
   "metadata": {},
   "outputs": [
    {
     "name": "stdout",
     "output_type": "stream",
     "text": [
      "l1 = [100, 2, 3, 4]\n",
      "l2 = [1, 2, 3, 4]\n"
     ]
    }
   ],
   "source": [
    "# C++ \n",
    "# ClassA obj1;\n",
    "# ClassA obj2 = obj1; Deep copy\n",
    "\n",
    "l1 = [1,2,3,4] # 1,00,0000\n",
    "l2 = l1.copy() # \n",
    "\n",
    "l1[0] = 100\n",
    "print(f\"l1 = {l1}\")\n",
    "print(f\"l2 = {l2}\")\n"
   ]
  },
  {
   "cell_type": "code",
   "execution_count": 18,
   "id": "ea5164a0-c137-472e-b680-5febfa590b78",
   "metadata": {},
   "outputs": [
    {
     "name": "stdout",
     "output_type": "stream",
     "text": [
      "[1, 4, 9, 16]\n"
     ]
    }
   ],
   "source": [
    "def calc_square(nums):\n",
    "    for i in range(len(nums)):\n",
    "        nums[i] = nums[i]**2\n",
    "\n",
    "l1 = [1,2,3,4]\n",
    "calc_square(l1)\n",
    "print(l1)\n",
    "    "
   ]
  },
  {
   "cell_type": "code",
   "execution_count": 24,
   "id": "88896300-dd13-4ba9-b626-268be133af55",
   "metadata": {},
   "outputs": [
    {
     "name": "stdout",
     "output_type": "stream",
     "text": [
      "['kamal', '100', 'adithya', '99', 'vandana', '80', 'sri', '89', 'mustafa', '75']\n",
      "Name = kamal has scored 100\n",
      "Name = adithya has scored 99\n",
      "Name = vandana has scored 80\n",
      "Name = sri has scored 89\n",
      "Name = mustafa has scored 75\n"
     ]
    }
   ],
   "source": [
    "names = \"kamal 100 adithya 99 vandana 80 sri 89 mustafa 75\"\n",
    "names_list = names.split()\n",
    "print(names_list)\n",
    "\n",
    "for index in range(0,len(names_list),2):\n",
    "    print(f\"Name = {names_list[index]} has scored {names_list[index+1]}\")\n"
   ]
  },
  {
   "cell_type": "code",
   "execution_count": 28,
   "id": "5f424783-ce5b-4dd4-ac55-d1c27c55c953",
   "metadata": {},
   "outputs": [
    {
     "name": "stdout",
     "output_type": "stream",
     "text": [
      "1. kamal\n",
      "2. adithya\n",
      "3. vandana\n",
      "4. sri\n",
      "5. mustafa\n"
     ]
    }
   ],
   "source": [
    "names = \"kamal adithya vandana sri mustafa\"\n",
    "index = 0\n",
    "for name in names.split(): #0, kamal\n",
    "    print(f\"{index+1}. {name}\")\n",
    "    index += 1"
   ]
  },
  {
   "cell_type": "code",
   "execution_count": 29,
   "id": "84f72f6b-7e88-4a7d-9526-b61fb63accb2",
   "metadata": {},
   "outputs": [
    {
     "name": "stdout",
     "output_type": "stream",
     "text": [
      "l1 = [1, 2, 3, 4, [100, 202, 300]]\n",
      "l2 = [1, 2, 3, 4, [100, 202, 300]]\n"
     ]
    }
   ],
   "source": [
    "l1 = [1,2,3,4,[100,200,300]] # 1,00,0000\n",
    "l2 = l1.copy() \n",
    "\n",
    "l1 [4][1] = 202\n",
    "\n",
    "print(f\"l1 = {l1}\")\n",
    "print(f\"l2 = {l2}\")\n"
   ]
  },
  {
   "cell_type": "code",
   "execution_count": 31,
   "id": "95c50551-0bea-4483-9f81-9bf9088127dc",
   "metadata": {},
   "outputs": [
    {
     "name": "stdout",
     "output_type": "stream",
     "text": [
      "l1 = [1, 2, 3, 4, [100, 202, 300, [1000, 2000, 3003]]]\n",
      "l2 = [1, 2, 3, 4, [100, 200, 300, [1000, 2000, 3000]]]\n"
     ]
    }
   ],
   "source": [
    "import copy\n",
    "l1 = [1,2,3,4,[100,200,300,[1000,2000,3000]]] # 1,00,0000\n",
    "l2 = copy.deepcopy(l1)\n",
    "\n",
    "l1 [4][1] = 202\n",
    "l1 [4][3][2] = 3003\n",
    "\n",
    "print(f\"l1 = {l1}\")\n",
    "print(f\"l2 = {l2}\")"
   ]
  },
  {
   "cell_type": "code",
   "execution_count": null,
   "id": "fd017439-e1db-4b07-ba49-9cfef39a6ce7",
   "metadata": {},
   "outputs": [],
   "source": [
    "# Dictionaries:\n",
    "'''\n",
    "1) key:value pair\n",
    "    d1 = {\"Name\":\"David\"}\n",
    "2) Enclosed with {}\n",
    "3) Access: (if it is existing)\n",
    "    d1[\"Name\"]\n",
    "4) Add new pair:\n",
    "    d1[\"age\"] = 10\n",
    "5) methods: get, update, keys, items, etc...\n",
    "6) For loop\n",
    "7) copy, deep copy\n",
    "8) Problems: Histogram, graphs.\n",
    "'''"
   ]
  },
  {
   "cell_type": "code",
   "execution_count": null,
   "id": "8fd08f95-b3bd-4911-aef3-1fd302e23200",
   "metadata": {},
   "outputs": [],
   "source": [
    "# For loops, lists, strings.\n"
   ]
  }
 ],
 "metadata": {
  "kernelspec": {
   "display_name": "Python (DeepCode)",
   "language": "python",
   "name": "my_env"
  },
  "language_info": {
   "codemirror_mode": {
    "name": "ipython",
    "version": 3
   },
   "file_extension": ".py",
   "mimetype": "text/x-python",
   "name": "python",
   "nbconvert_exporter": "python",
   "pygments_lexer": "ipython3",
   "version": "3.13.2"
  }
 },
 "nbformat": 4,
 "nbformat_minor": 5
}
