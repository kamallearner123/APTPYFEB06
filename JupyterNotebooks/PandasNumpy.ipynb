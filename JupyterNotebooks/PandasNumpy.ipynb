{
 "cells": [
  {
   "cell_type": "code",
   "execution_count": 25,
   "id": "e945bc3c-55fb-48b2-b90c-4c036237a59e",
   "metadata": {},
   "outputs": [
    {
     "name": "stdout",
     "output_type": "stream",
     "text": [
      "int8\n",
      "float64\n",
      "[11.3 22.  33.   8. ]\n"
     ]
    }
   ],
   "source": [
    "import numpy as np\n",
    "\n",
    "l1 = np.array([1.0,2,3,4], dtype='int8')\n",
    "l2 = np.array([10.3,20,30,4])\n",
    "\n",
    "l3 = l1+l2\n",
    "\n",
    "print(l1.dtype)\n",
    "print(l2.dtype)\n",
    "\n",
    "print(l3)\n"
   ]
  },
  {
   "cell_type": "code",
   "execution_count": 48,
   "id": "a77543c0-6b89-40ad-b22b-a3e53ec8e3b9",
   "metadata": {},
   "outputs": [
    {
     "name": "stdout",
     "output_type": "stream",
     "text": [
      "0:00:01.385495\n",
      "0:00:00.022094\n",
      "280000000\n",
      "80000112\n"
     ]
    },
    {
     "data": {
      "text/plain": [
       "array([      0,       1,       2, ..., 9999997, 9999998, 9999999],\n",
       "      shape=(10000000,))"
      ]
     },
     "execution_count": 48,
     "metadata": {},
     "output_type": "execute_result"
    }
   ],
   "source": [
    "import datetime \n",
    "import sys\n",
    "s = 10000000\n",
    "l1 = range(s)\n",
    "l2 = range(s)\n",
    "\n",
    "l3 = []\n",
    "start = datetime.datetime.now()\n",
    "for i in range(10000000):\n",
    "    l3.append(l1[i]*l2[i])\n",
    "end = datetime.datetime.now()\n",
    "print(end-start)\n",
    "\n",
    "a1 = np.arange(s)\n",
    "a2 = np.arange(s)\n",
    "start = datetime.datetime.now()\n",
    "a3 = a1*a2\n",
    "end = datetime.datetime.now()\n",
    "print(end-start)\n",
    "\n",
    "\n",
    "print(sys.getsizeof(l1[0])*s)\n",
    "print(sys.getsizeof(a1))\n",
    "\n",
    "a1.view()"
   ]
  },
  {
   "cell_type": "code",
   "execution_count": 49,
   "id": "6f52f964-59ce-43ac-b9f3-a75e74fd5373",
   "metadata": {},
   "outputs": [],
   "source": [
    "import pandas\n"
   ]
  },
  {
   "cell_type": "code",
   "execution_count": null,
   "id": "b21821f4-9063-4070-8261-3eb32a391bb2",
   "metadata": {},
   "outputs": [],
   "source": []
  }
 ],
 "metadata": {
  "kernelspec": {
   "display_name": "Python3 (DeepCode)",
   "language": "python",
   "name": "deepcode"
  },
  "language_info": {
   "codemirror_mode": {
    "name": "ipython",
    "version": 3
   },
   "file_extension": ".py",
   "mimetype": "text/x-python",
   "name": "python",
   "nbconvert_exporter": "python",
   "pygments_lexer": "ipython3",
   "version": "3.13.2"
  }
 },
 "nbformat": 4,
 "nbformat_minor": 5
}
