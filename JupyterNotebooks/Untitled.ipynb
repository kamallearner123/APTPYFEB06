{
 "cells": [
  {
   "cell_type": "code",
   "execution_count": 1,
   "id": "2c5947fa-a382-4a1f-b627-de70bdffc772",
   "metadata": {},
   "outputs": [
    {
     "name": "stdout",
     "output_type": "stream",
     "text": [
      "/Users/kamalmukiri/Documents/1.GitHub/APTPYFEB06/APTPYFEB06/Projects\n",
      ".DS_Store\n",
      "__pycache__\n",
      "sample.py\n",
      "Python-pptx\n",
      "Django\n",
      ". <built-in function dir>\n",
      "./__pycache__ <built-in function dir>\n",
      "./Python-pptx <built-in function dir>\n",
      "./Django <built-in function dir>\n",
      "./Django/aptcode <built-in function dir>\n",
      "./Django/aptcode/aptcode <built-in function dir>\n",
      "./Django/aptcode/aptcode/aptcode <built-in function dir>\n",
      "./Django/aptcode/aptcode/aptcode/__pycache__ <built-in function dir>\n",
      "./Django/aptcode/aptcode/solveq <built-in function dir>\n",
      "./Django/aptcode/aptcode/solveq/migrations <built-in function dir>\n",
      "./Django/aptcode/aptcode/solveq/migrations/__pycache__ <built-in function dir>\n",
      "./Django/aptcode/aptcode/solveq/__pycache__ <built-in function dir>\n",
      "./Django/aptcode/aptcode/solveq/templates <built-in function dir>\n",
      "./Django/neetcode <built-in function dir>\n",
      "./Django/neetcode/neetcode <built-in function dir>\n",
      "./Django/neetcode/neetcode/__pycache__ <built-in function dir>\n",
      "./Django/neetcode/news <built-in function dir>\n",
      "./Django/neetcode/news/migrations <built-in function dir>\n",
      "./Django/neetcode/news/migrations/__pycache__ <built-in function dir>\n",
      "./Django/neetcode/news/__pycache__ <built-in function dir>\n"
     ]
    }
   ],
   "source": [
    "import os\n",
    "\n",
    "CWD = os.getcwd()\n",
    "\n",
    "os.chdir('../Projects')\n",
    "print(os.getcwd())\n",
    "\n",
    "for i in os.listdir():\n",
    "    print(i)\n",
    "\n",
    "# recursive walk\n",
    "for file, directory, cdir in os.walk('.'):\n",
    "    print(file, dir)\n",
    "\n",
    "os.chdir(CWD)"
   ]
  },
  {
   "cell_type": "code",
   "execution_count": 5,
   "id": "0c1610a1-caa0-4ac7-b3d7-1384444b7a2a",
   "metadata": {},
   "outputs": [
    {
     "name": "stdout",
     "output_type": "stream",
     "text": [
      "/Users/kamalmukiri/Documents/1.GitHub/APTPYFEB06/APTPYFEB06/Projects\n"
     ]
    }
   ],
   "source": [
    "print(os.getcwd())"
   ]
  },
  {
   "cell_type": "code",
   "execution_count": null,
   "id": "129a7a79-7540-4dc0-a781-9d301ac45ff2",
   "metadata": {},
   "outputs": [],
   "source": []
  }
 ],
 "metadata": {
  "kernelspec": {
   "display_name": "Python3 (DeepCode)",
   "language": "python",
   "name": "deepcode"
  },
  "language_info": {
   "codemirror_mode": {
    "name": "ipython",
    "version": 3
   },
   "file_extension": ".py",
   "mimetype": "text/x-python",
   "name": "python",
   "nbconvert_exporter": "python",
   "pygments_lexer": "ipython3",
   "version": "3.13.2"
  }
 },
 "nbformat": 4,
 "nbformat_minor": 5
}
