{
 "cells": [
  {
   "cell_type": "code",
   "execution_count": 3,
   "id": "5af84966-ff91-499d-9daa-78db21657253",
   "metadata": {},
   "outputs": [
    {
     "name": "stdout",
     "output_type": "stream",
     "text": [
      "('192.168.10.154', '2025/02/13 16:30:24', '2025/02/13 17:30:24', '00:08:31:17:7c:f8', 'Cisco UCS-FI-6454')\n",
      "('192.168.10.175', '2025/02/13 16:46:00', '2025/02/13 17:46:00', '00:08:31:17:12:24', 'Cisco UCS-FI-6454')\n",
      "('192.168.10.152', '2025/02/13 16:55:40', '2025/02/13 18:25:25', 'e0:69:ba:60:02:a0', 'cisco MDS - tcl')\n",
      "('192.168.10.151', '2025/02/13 16:55:44', '2025/02/13 18:55:44', '88:fc:5d:27:01:a0', 'Cisco N9K-C9336C-FX2')\n",
      "('192.168.10.152', '2025/02/13 16:56:04', '2025/02/13 18:56:04', 'e0:69:ba:60:02:a0', 'cisco MDS - tcl')\n",
      "('192.168.10.154', '2025/02/13 16:56:42', '2025/02/13 17:56:42', '00:08:31:17:7c:f8', 'Cisco UCS-FI-6454')\n",
      "('192.168.10.175', '2025/02/13 16:46:00', '2025/02/13 17:00:47', '00:08:31:17:12:24', '')\n"
     ]
    },
    {
     "data": {
      "text/plain": [
       "[None, None, None, None, None, None, None]"
      ]
     },
     "execution_count": 3,
     "metadata": {},
     "output_type": "execute_result"
    }
   ],
   "source": [
    "data = '''\n",
    "# The format of this file is documented in the dhcpd.leases(5) manual page.\n",
    "# This lease file was written by isc-dhcp-4.4.1\n",
    "# authoring-byte-order entry is generated, DO NOT DELETE\n",
    "authoring-byte-order little-endian;\n",
    "lease 192.168.10.154 {\n",
    "  starts 4 2025/02/13 16:30:24;\n",
    "  ends 4 2025/02/13 17:30:24;\n",
    "  cltt 4 2025/02/13 16:30:24;\n",
    "  binding state active;\n",
    "  next binding state free;\n",
    "  rewind binding state free;\n",
    "  hardware ethernet 00:08:31:17:7c:f8;\n",
    "  uid \"\\000FDO26241HA2;Cisco UCS-FI-6454\";\n",
    "  set vendor-class-identifier = \"Cisco UCS-FI-6454\";\n",
    "}\n",
    "lease 192.168.10.175 {\n",
    "  starts 4 2025/02/13 16:46:00;\n",
    "  ends 4 2025/02/13 17:46:00;\n",
    "  cltt 4 2025/02/13 16:46:05;\n",
    "  binding state active;\n",
    "  next binding state free;\n",
    "  rewind binding state free;\n",
    "  hardware ethernet 00:08:31:17:12:24;\n",
    "  uid \"\\000FDO26241H92;Cisco UCS-FI-6454\";\n",
    "  set vendor-class-identifier = \"Cisco UCS-FI-6454\";\n",
    "}\n",
    "lease 192.168.10.152 {\n",
    "  starts 4 2025/02/13 16:55:40;\n",
    "  ends 4 2025/02/13 18:25:25;\n",
    "  cltt 4 2025/02/13 16:55:40;\n",
    "  binding state active;\n",
    "  next binding state free;\n",
    "  rewind binding state free;\n",
    "  hardware ethernet e0:69:ba:60:02:a0;\n",
    "  uid \"\\000JPG2641006J\";\n",
    "  set vendor-class-identifier = \"cisco MDS - tcl\";\n",
    "}\n",
    "lease 192.168.10.151 {\n",
    "  starts 4 2025/02/13 16:55:44;\n",
    "  ends 4 2025/02/13 18:55:44;\n",
    "  cltt 4 2025/02/13 16:55:44;\n",
    "  binding state active;\n",
    "  next binding state free;\n",
    "  rewind binding state free;\n",
    "  hardware ethernet 88:fc:5d:27:01:a0;\n",
    "  uid \"\\000FDO2630226Gmgmt0\";\n",
    "  set vendor-class-identifier = \"Cisco N9K-C9336C-FX2\";\n",
    "}\n",
    "lease 192.168.10.152 {\n",
    "  starts 4 2025/02/13 16:56:04;\n",
    "  ends 4 2025/02/13 18:56:04;\n",
    "  cltt 4 2025/02/13 16:56:04;\n",
    "  binding state active;\n",
    "  next binding state free;\n",
    "  rewind binding state free;\n",
    "  hardware ethernet e0:69:ba:60:02:a0;\n",
    "  uid \"\\000JPG2641006J\";\n",
    "  set vendor-class-identifier = \"cisco MDS - tcl\";\n",
    "}\n",
    "lease 192.168.10.154 {\n",
    "  starts 4 2025/02/13 16:56:42;\n",
    "  ends 4 2025/02/13 17:56:42;\n",
    "  cltt 4 2025/02/13 16:56:42;\n",
    "  binding state active;\n",
    "  next binding state free;\n",
    "  rewind binding state free;\n",
    "  hardware ethernet 00:08:31:17:7c:f8;\n",
    "  uid \"\\000FDO26241HA2;Cisco UCS-FI-6454\";\n",
    "  set vendor-class-identifier = \"Cisco UCS-FI-6454\";\n",
    "}\n",
    "lease 192.168.10.175 {\n",
    "  starts 4 2025/02/13 16:46:00;\n",
    "  ends 4 2025/02/13 17:00:47;\n",
    "  tstp 4 2025/02/13 17:00:47;\n",
    "  cltt 4 2025/02/13 16:46:05;\n",
    "  binding state free;\n",
    "  hardware ethernet 00:08:31:17:12:24;\n",
    "  uid \"\\000FDO26241H92;Cisco UCS-FI-6454\";\n",
    "}\n",
    "'''\n",
    "\n",
    "\n",
    "import re\n",
    "leases = re.findall(r'lease\\s(?P<ip>\\d+\\.\\d+\\.\\d+\\.\\d+)\\s\\{[\\s\\S]*?starts\\s\\d\\s(?P<start_time>[\\d\\/\\:\\s]+);[\\s\\S]*?ends\\s\\d\\s(?P<end_time>[\\d\\/\\:\\s]+);[\\s\\S]*?hardware\\s\\w+\\s(?P<mac>[a-fA-F0-9:]+);(?:[\\s\\S]*?set vendor-class-identifier\\s*=\\s\\\"(?P<hostname>.*?)\\\";)?', data, re.DOTALL)\n",
    "list(map(print,leases))\n",
    "            "
   ]
  },
  {
   "cell_type": "code",
   "execution_count": null,
   "id": "714cddfb-4caa-4503-a6e2-b0ae088023e1",
   "metadata": {},
   "outputs": [],
   "source": []
  }
 ],
 "metadata": {
  "kernelspec": {
   "display_name": "Python 3 (ipykernel)",
   "language": "python",
   "name": "python3"
  },
  "language_info": {
   "codemirror_mode": {
    "name": "ipython",
    "version": 3
   },
   "file_extension": ".py",
   "mimetype": "text/x-python",
   "name": "python",
   "nbconvert_exporter": "python",
   "pygments_lexer": "ipython3",
   "version": "3.12.7"
  }
 },
 "nbformat": 4,
 "nbformat_minor": 5
}
