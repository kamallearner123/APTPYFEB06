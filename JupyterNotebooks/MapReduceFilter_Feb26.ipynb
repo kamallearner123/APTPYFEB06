{
 "cells": [
  {
   "cell_type": "markdown",
   "id": "1ee4f424-44bd-4750-9417-f9d279758340",
   "metadata": {},
   "source": [
    "# **Python: Sets, Map, Reduce, and Filter**\n",
    "\n",
    "## **1. Sets in Python**\n",
    "A **set** is an **unordered, mutable collection** of **unique elements**. It does not allow duplicate values.  \n",
    "\n",
    "### **Key Features of Sets**\n",
    "- Unordered (No indexing or slicing).\n",
    "- Does not allow duplicate elements.\n",
    "- Supports mathematical operations like **union, intersection, difference, and symmetric difference**.\n",
    "- Mutable (Can add or remove elements).\n",
    "\n",
    "### **Common Set Operations**\n",
    "1. **Union (`|`)** - Combines elements of two sets.\n",
    "2. **Intersection (`&`)** - Gets common elements from two sets.\n",
    "3. **Difference (`-`)** - Elements present in one set but not in the other.\n",
    "4. **Symmetric Difference (`^`)** - Elements that are in either of the sets but not in both.\n",
    "\n",
    "---\n",
    "\n",
    "## **2. The `map()` Function**\n",
    "The **`map()`** function applies a given function to **each element** of an iterable (e.g., list, tuple).  \n",
    "\n",
    "### **Key Features of `map()`**\n",
    "- Returns an iterator (needs to be converted to a list to see results).\n",
    "- Does **not** modify the original iterable.\n",
    "- Useful for applying a function **element-wise** on a collection.\n",
    "\n",
    "### **Use Cases**\n",
    "- Converting a list of strings to uppercase.\n",
    "- Squaring all numbers in a list.\n",
    "- Converting temperatures from Celsius to Fahrenheit.\n",
    "\n",
    "---\n",
    "\n",
    "## **3. The `reduce()` Function**\n",
    "The **`reduce()`** function applies a function **cumulatively** to all elements in an iterable, reducing it to a single value.  \n",
    "\n",
    "### **Key Features of `reduce()`**\n",
    "- Requires importing from `functools` before use.\n",
    "- Reduces the iterable to a **single** result.\n",
    "- The function takes two arguments at a time and applies it cumulatively.\n",
    "\n",
    "### **Use Cases**\n",
    "- Calculating the **sum** or **product** of elements in a list.\n",
    "- Finding the **maximum** or **minimum** value.\n",
    "- Concatenating a list of strings.\n",
    "\n",
    "---\n",
    "\n",
    "## **4. The `filter()` Function**\n",
    "The **`filter()`** function is used to filter elements in an iterable based on a given condition.  \n",
    "\n",
    "### **Key Features of `filter()`**\n",
    "- Returns an iterator (needs conversion to a list).\n",
    "- Keeps only elements that satisfy the given condition.\n",
    "- Useful for **extracting specific elements** from a collection.\n",
    "\n",
    "### **Use Cases**\n",
    "- Filtering **even numbers** from a list.\n",
    "- Extracting **positive numbers** from a list of integers.\n",
    "- Selecting **non-empty** strings from a list.\n",
    "\n",
    "---\n",
    "\n",
    "## **Comparison: `map()`, `filter()`, `reduce()`**\n",
    "| Function  | Purpose | Output Type |\n",
    "|-----------|---------|------------|\n",
    "| `map()`   | Applies a function to each element | Iterator (requires conversion to list) |\n",
    "| `filter()` | Filters elements based on a condition | Iterator (requires conversion to list) |\n",
    "| `reduce()` | Applies a function cumulatively to reduce to a single value | A single result |\n",
    "\n",
    "---\n",
    "\n",
    "## **Summary**\n",
    "- **Sets** store unique values and support mathematical operations.\n",
    "- **`map()`** applies a function **element-wise** on an iterable.\n",
    "- **`reduce()`** reduces an iterable to **a single value**.\n",
    "- **`filter()`** extracts **elements that meet a condition**.\n",
    "\n",
    "🚀 These functions help improve efficiency and readability in Python programming!\n"
   ]
  },
  {
   "cell_type": "code",
   "execution_count": null,
   "id": "00a67a23-e466-463e-9e0d-00547ea0006e",
   "metadata": {},
   "outputs": [],
   "source": []
  },
  {
   "cell_type": "code",
   "execution_count": null,
   "id": "63f9f43b-4e22-4f6d-b3a3-592304e33ff6",
   "metadata": {},
   "outputs": [],
   "source": [
    "\n",
    "list(map(print, d1))\n"
   ]
  },
  {
   "cell_type": "code",
   "execution_count": 18,
   "id": "4f1264a4-618d-4457-8365-c2743101ff22",
   "metadata": {},
   "outputs": [
    {
     "name": "stdout",
     "output_type": "stream",
     "text": [
      "Adithya is working in Apple\n",
      "Rahul is working in Meta\n",
      "Sai is working in Google\n"
     ]
    },
    {
     "data": {
      "text/plain": [
       "'\\n1) Indeed of applying fun on all the elements in lists/tuple/etc...\\n2) No dependency of one element on other\\n3) No break\\n4) Lazy computing\\n'"
      ]
     },
     "execution_count": 18,
     "metadata": {},
     "output_type": "execute_result"
    }
   ],
   "source": [
    "names = {\n",
    "    \"Adithya\": \"Apple\",\n",
    "    \"Rahul\": \"Meta\",\n",
    "    \"Sai\": \"Google\"\n",
    "}\n",
    "\n",
    "# map : loop + function\n",
    "# map(fun, iterator)\n",
    "def decorate(name):\n",
    "    name = name.capitalize()\n",
    "    return f\"{name} is an expert in Python Programming\"\n",
    "\n",
    "# list szie: 10,00,000\n",
    "# time 1msec per one calc\n",
    "# Total time: 1000 secs\n",
    "\n",
    "result = map(lambda pers_details: f\"{pers_details[0].capitalize()} is working in {pers_details[1]}\", names.items()) # 1msec\n",
    "#result = list(map(lambda pers_details: f\"{pers_details[0].capitalize()} is working in {pers_details[1]}\", names.items())) # > 1000secs\n",
    "\n",
    "result = iter(result)\n",
    "for statement in result:\n",
    "    print(statement)\n",
    "\n",
    "\n",
    "'''\n",
    "1) Indeed of applying fun on all the elements in lists/tuple/etc...\n",
    "2) No dependency of one element on other\n",
    "3) No break\n",
    "4) Lazy computing\n",
    "'''"
   ]
  },
  {
   "cell_type": "code",
   "execution_count": 8,
   "id": "2b021b22-8be8-48ed-841a-c0188ca3bbe6",
   "metadata": {},
   "outputs": [
    {
     "name": "stdout",
     "output_type": "stream",
     "text": [
      "Adithya Apple\n",
      "Rahul Meta\n",
      "Sai Google\n"
     ]
    }
   ],
   "source": [
    "for k,v in names.items():\n",
    "    print(k,v)"
   ]
  },
  {
   "cell_type": "code",
   "execution_count": null,
   "id": "727c15a6-f9ca-43fa-b918-b1f74b3d0927",
   "metadata": {},
   "outputs": [],
   "source": []
  },
  {
   "cell_type": "code",
   "execution_count": null,
   "id": "e5c148cc-0b95-47ee-a125-19e0e4367d87",
   "metadata": {},
   "outputs": [],
   "source": []
  },
  {
   "cell_type": "code",
   "execution_count": 13,
   "id": "c1381ddb-395b-47a6-adea-37c7b4411990",
   "metadata": {},
   "outputs": [
    {
     "data": {
      "text/plain": [
       "('Adithya', 'Apple')"
      ]
     },
     "execution_count": 13,
     "metadata": {},
     "output_type": "execute_result"
    }
   ],
   "source": [
    "itr1 = iter(names.items())\n",
    "next(itr1)"
   ]
  },
  {
   "cell_type": "code",
   "execution_count": 25,
   "id": "6cebea54-0019-4084-b456-1e77275daec1",
   "metadata": {},
   "outputs": [
    {
     "name": "stdout",
     "output_type": "stream",
     "text": [
      "[('Srinivas', 'Amazon inc'), ('james', 'Amazon info'), ('michael', 'Amazon'), ('robert', 'Amazon')]\n"
     ]
    }
   ],
   "source": [
    "names = {\n",
    "\"Adithya\": \"Apple\",\n",
    "\"Rahul\": \"Meta\",\n",
    "\"Sai\": \"Google\",\n",
    "\"Srinivas\": \"Amazon inc\",\n",
    "\"Sandeep\": \"Microsoft\",\n",
    "\"david\": \"Facebook\",\n",
    "\"james\": \"Amazon info\",\n",
    "\"michael\": \"Amazon\",\n",
    "\"john\": \"Instagram\",\n",
    "\"robert\": \"Amazon\",\n",
    "\"william\": \"Snapchat\",\n",
    "\"joseph\": \"Pinterest\"}\n",
    "\n",
    "# result = []\n",
    "# for employee, company in names.items():\n",
    "#     if company.startswith(\"Amazon\"):\n",
    "#         result.append(employee)\n",
    "# print(result)\n",
    "\n",
    "# Filter:\n",
    "# filter( function_name, iterator)\n",
    "result = list(filter(lambda employee: employee[1].startswith(\"Amazon\"), names.items())) # (\"Adithya\", \"Apple\")\n",
    "print(result)"
   ]
  },
  {
   "cell_type": "code",
   "execution_count": null,
   "id": "33e6b9cb-0455-493f-8fb6-5e7fdf2b53c8",
   "metadata": {},
   "outputs": [],
   "source": [
    "# l1 size of 1000: ==> list(map) ==> result is size of 1000\n",
    "# l1 size of 1000: ==> list(filter) ==> result is size of 1000 or less than that.\n",
    "# l1 size of 1000: ==> reduce ==> single output (sum of all numbers, mul of all numbers, join all strings, )"
   ]
  },
  {
   "cell_type": "code",
   "execution_count": 32,
   "id": "fcf568f8-46f2-452a-88de-347ecf606815",
   "metadata": {},
   "outputs": [
    {
     "name": "stdout",
     "output_type": "stream",
     "text": [
      "204\n",
      "204\n"
     ]
    }
   ],
   "source": [
    "nums = [123,12,4,-5,70]\n",
    "\n",
    "def add(a,b):\n",
    "    return a+b\n",
    "\n",
    "from functools import reduce\n",
    "result = reduce(add, nums)\n",
    "print(result)\n"
   ]
  },
  {
   "cell_type": "code",
   "execution_count": 36,
   "id": "ada1ba62-eeb7-4a63-9be1-65b6b886cd9b",
   "metadata": {},
   "outputs": [
    {
     "name": "stdout",
     "output_type": "stream",
     "text": [
      "-5\n"
     ]
    }
   ],
   "source": [
    "nums = [123,12,4,-5,70]\n",
    "\n",
    "\n",
    "from functools import reduce\n",
    "\n",
    "result = reduce(lambda x,y: x if x< y else y, nums)\n",
    "\n",
    "print(result)"
   ]
  },
  {
   "cell_type": "code",
   "execution_count": null,
   "id": "e009d262-4d2d-4493-9fed-0b3bb45e4fd9",
   "metadata": {},
   "outputs": [],
   "source": []
  }
 ],
 "metadata": {
  "kernelspec": {
   "display_name": "Python 3 (ipykernel)",
   "language": "python",
   "name": "python3"
  },
  "language_info": {
   "codemirror_mode": {
    "name": "ipython",
    "version": 3
   },
   "file_extension": ".py",
   "mimetype": "text/x-python",
   "name": "python",
   "nbconvert_exporter": "python",
   "pygments_lexer": "ipython3",
   "version": "3.12.7"
  }
 },
 "nbformat": 4,
 "nbformat_minor": 5
}
