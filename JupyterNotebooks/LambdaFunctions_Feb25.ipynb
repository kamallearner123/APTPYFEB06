{
 "cells": [
  {
   "cell_type": "code",
   "execution_count": null,
   "id": "bd115a54-2450-4171-9a05-4c1958b6d32a",
   "metadata": {},
   "outputs": [],
   "source": []
  },
  {
   "cell_type": "code",
   "execution_count": 34,
   "id": "a6344c48-0c16-4ce9-8ac4-2dad3d136c77",
   "metadata": {},
   "outputs": [
    {
     "name": "stdout",
     "output_type": "stream",
     "text": [
      "10\n"
     ]
    }
   ],
   "source": [
    "# Lambda\n",
    "# 1) One line\n",
    "\n",
    "\n",
    "def get_min(num1, num2):\n",
    "    if num1 < num2:\n",
    "        return num1\n",
    "    else:\n",
    "        return num2\n",
    "\n",
    "\n",
    "get_min_l = lambda x,y: x if x<y else y\n",
    "\n",
    "result = get_min_l(10,20)\n",
    "print(result)"
   ]
  },
  {
   "cell_type": "code",
   "execution_count": 37,
   "id": "7d55c1e3-30f2-4ed9-b1f2-9d12cd2f59ca",
   "metadata": {},
   "outputs": [
    {
     "name": "stdout",
     "output_type": "stream",
     "text": [
      "0:00:02.741782\n",
      "0:00:02.780009\n"
     ]
    }
   ],
   "source": [
    "# Map , reduce and filter\n",
    "\n",
    "# x**2+2*x+10\n",
    "\n",
    "def get_valu(x):\n",
    "    return x**2 + 2*x + 10\n",
    "    \n",
    "nums = list(range(10000000))\n",
    "# result = []\n",
    "# for num in nums:\n",
    "#     result.append(get_valu(num))\n",
    "# print(result)\n",
    "\n",
    "# Map function\n",
    "# map(funtion_name, iterable (list/tuples/dicts/sets/string/range))\n",
    "from datetime import datetime\n",
    "start = datetime.now()\n",
    "l1 = list(map(lambda x : x**2 + 2*x + 10, nums))\n",
    "end = datetime.now()\n",
    "print(end-start)\n",
    "\n",
    "start = datetime.now()\n",
    "l1 = list(map(get_valu, nums))\n",
    "end = datetime.now()\n",
    "print(end-start)"
   ]
  },
  {
   "cell_type": "code",
   "execution_count": 31,
   "id": "63866cd1-beb4-4e83-a68a-807e26660ea9",
   "metadata": {},
   "outputs": [
    {
     "name": "stdout",
     "output_type": "stream",
     "text": [
      "[0, 1, 2, 3, 4, 5, 6, 7, 8, 9, 10, 11, 12, 13, 14, 15, 16, 17, 18, 19, 20, 21, 22, 23, 24, 25, 26, 27, 28, 29, 30, 31, 32, 33, 34, 35, 36, 37, 38, 39, 40, 41, 42, 43, 44, 45, 46, 47, 48, 49, 50, 51, 52, 53, 54, 55, 56, 57, 58, 59, 60, 61, 62, 63, 64, 65, 66, 67, 68, 69, 70, 71, 72, 73, 74, 75, 76, 77, 78, 79, 80, 81, 82, 83, 84, 85, 86, 87, 88, 89, 90, 91, 92, 93, 94, 95, 96, 97, 98, 99]\n"
     ]
    }
   ],
   "source": [
    "l1 = list(range(100))\n",
    "print(l1)"
   ]
  },
  {
   "cell_type": "code",
   "execution_count": 29,
   "id": "3569cf93-d99c-4f79-b5b9-4e02c221f914",
   "metadata": {},
   "outputs": [
    {
     "name": "stdout",
     "output_type": "stream",
     "text": [
      "136\n",
      "48\n",
      "0\n",
      "1\n",
      "2\n",
      "3\n",
      "4\n",
      "5\n",
      "6\n",
      "7\n",
      "8\n",
      "9\n"
     ]
    }
   ],
   "source": [
    "import sys\n",
    "l1 = list(range(10))\n",
    "print(sys.getsizeof(l1))\n",
    "r1 = range(10)\n",
    "print(sys.getsizeof(r1))\n",
    "\n",
    "for num in r1:\n",
    "    print(num)"
   ]
  },
  {
   "cell_type": "code",
   "execution_count": 8,
   "id": "cb850cc2-1735-45ab-b2ce-73b049d47414",
   "metadata": {},
   "outputs": [
    {
     "name": "stdout",
     "output_type": "stream",
     "text": [
      "48\n"
     ]
    }
   ],
   "source": [
    "import sys\n",
    "r1 = range(10000)\n",
    "print(sys.getsizeof(r1))"
   ]
  },
  {
   "cell_type": "code",
   "execution_count": 28,
   "id": "7b321e95-346b-4402-8dd3-a975b72a7aff",
   "metadata": {},
   "outputs": [
    {
     "name": "stdout",
     "output_type": "stream",
     "text": [
      "calling next\n",
      "1\n",
      "48\n"
     ]
    }
   ],
   "source": [
    "# Modify __next__ to give chunk of numbers.\n",
    "# It should be taken as an argument in constructor\n",
    "class range_num:\n",
    "    def __init__(self, *args):\n",
    "        self.min_num = 0\n",
    "        self.max_num = 0\n",
    "        self.inc = 1\n",
    "        self.curr = 0\n",
    "        \n",
    "        if len(args)==1:\n",
    "            self.max_num = args[0]\n",
    "        elif len(args)==2:\n",
    "            self.min_num = args[0]\n",
    "            self.max_num = args[1]\n",
    "        elif len(args)==3:\n",
    "            self.min_num = args[0]\n",
    "            self.max_num = args[1]\n",
    "            self.inc = args[2]\n",
    "        else:\n",
    "            print(\"Invalid number of arguments\")\n",
    "            \n",
    "        self.curr = self.min_num\n",
    "\n",
    "    def __next__(self):\n",
    "        print(\"calling next\")\n",
    "        result = self.curr\n",
    "        if self.curr < self.max_num:\n",
    "            self.curr += self.inc \n",
    "            return result\n",
    "        else:\n",
    "            print(\"You reached max\")\n",
    "            return None\n",
    "\n",
    "r1 = range_num(1,20000,1, 10)\n",
    "print(next(r1))\n",
    "print(sys.getsizeof(r1))"
   ]
  },
  {
   "cell_type": "code",
   "execution_count": 12,
   "id": "088d2735-b630-4889-8448-470316b55a2a",
   "metadata": {},
   "outputs": [
    {
     "name": "stdout",
     "output_type": "stream",
     "text": [
      "0\n"
     ]
    }
   ],
   "source": [
    "\n",
    "for i in range(0,2,10):\n",
    "    print(i)\n"
   ]
  },
  {
   "cell_type": "code",
   "execution_count": null,
   "id": "57bd014f-acc4-4801-b48b-7402c98383ea",
   "metadata": {},
   "outputs": [],
   "source": [
    "class map_acl:\n",
    "    def __init__(self, fun, l1):\n",
    "        self.min_num = 0\n",
    "        self.max_num = 0\n",
    "        self.inc = 1\n",
    "        self.curr = 0\n",
    "        \n",
    "        if len(args)==1:\n",
    "            self.max_num = args[0]\n",
    "        elif len(args)==2:\n",
    "            self.min_num = args[0]\n",
    "            self.max_num = args[1]\n",
    "        elif len(args)==3:\n",
    "            self.min_num = args[0]\n",
    "            self.max_num = args[1]\n",
    "            self.inc = args[2]\n",
    "        else:\n",
    "            print(\"Invalid number of arguments\")\n",
    "            \n",
    "        self.curr = self.min_num\n",
    "\n",
    "    def __next__(self):\n",
    "        print(\"calling next\")\n",
    "        result = self.curr\n",
    "        if self.curr < self.max_num:\n",
    "            self.curr += self.inc \n",
    "            return result\n",
    "        else:\n",
    "            print(\"You reached max\")\n",
    "            return None\n"
   ]
  }
 ],
 "metadata": {
  "kernelspec": {
   "display_name": "Python 3 (ipykernel)",
   "language": "python",
   "name": "python3"
  },
  "language_info": {
   "codemirror_mode": {
    "name": "ipython",
    "version": 3
   },
   "file_extension": ".py",
   "mimetype": "text/x-python",
   "name": "python",
   "nbconvert_exporter": "python",
   "pygments_lexer": "ipython3",
   "version": "3.10.12"
  }
 },
 "nbformat": 4,
 "nbformat_minor": 5
}
