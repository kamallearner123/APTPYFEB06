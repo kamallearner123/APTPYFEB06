{
 "cells": [
  {
   "cell_type": "code",
   "execution_count": 19,
   "id": "be63ac65-46b2-4f0d-b0c4-c49bf16323fb",
   "metadata": {},
   "outputs": [
    {
     "name": "stdout",
     "output_type": "stream",
     "text": [
      "Malayalam\n",
      "malayalaM\n",
      "Not\n"
     ]
    }
   ],
   "source": [
    "# Strings\n",
    "\n",
    "s1 = \"Malayalam\"\n",
    "\n",
    "# s1[start:stop:increment] # range(0,100,5)\n",
    "# s1[100] : start 100, stop 101: increment 1\n",
    "# s1[::2] : start 0, stop len(s1), \n",
    "\n",
    "# s1[::-1] : if increment -ve\n",
    "#          : -1:-len(s1+1): -inc\n",
    "#          : -1:-11: -1\n",
    "\n",
    "s2 = s1[::-1]\n",
    "\n",
    "print(s1)\n",
    "print(s2)\n",
    "if s1 == s2:\n",
    "    print(\"It is palindrome\")\n",
    "else:\n",
    "    print(\"Not\")"
   ]
  },
  {
   "cell_type": "code",
   "execution_count": 2,
   "id": "c6bb1616-93fc-4fb5-91a8-6b0d873d0e12",
   "metadata": {},
   "outputs": [
    {
     "name": "stdout",
     "output_type": "stream",
     "text": [
      "malayalam\n",
      "True\n"
     ]
    }
   ],
   "source": [
    "\n",
    "def check_palindrome(word):\n",
    "    # Preprocessing #\n",
    "    word = word.lower()\n",
    "    print(word)\n",
    "    word2 = word[::-1]\n",
    "\n",
    "    if word == word2:\n",
    "        return True\n",
    "    else:\n",
    "        return False\n",
    "        \n",
    "print(check_palindrome(\"MalayalAm\"))"
   ]
  },
  {
   "cell_type": "code",
   "execution_count": 21,
   "id": "5e372d5e-30aa-4774-b145-eac405b845ea",
   "metadata": {},
   "outputs": [
    {
     "name": "stdout",
     "output_type": "stream",
     "text": [
      "malayalam\n"
     ]
    }
   ],
   "source": [
    "s1 = \"MalayalAm\"\n",
    "s2 = s1.lower()\n",
    "print(s2)"
   ]
  },
  {
   "cell_type": "code",
   "execution_count": 13,
   "id": "cacf9193-afc2-44cd-adca-b7ad0415a475",
   "metadata": {},
   "outputs": [
    {
     "name": "stdout",
     "output_type": "stream",
     "text": [
      "  ///   Times of india    \n",
      "     Times of india    \n",
      "Times of india\n",
      "TIMES OF INDIA\n",
      "******************TIMES OF INDIA******************\n",
      "******************TIMES OF INDIA******************\n",
      "None\n"
     ]
    }
   ],
   "source": [
    "title = \"  *** //// the hindu       \"\n",
    "def make_title(title):\n",
    "    # ********** THE HINDU **********\n",
    "    title = title.replace(\"*\",\"\")\n",
    "    print(title)\n",
    "    title = title.replace(\"/\",\"\")\n",
    "    print(title)\n",
    "    title = title.strip()\n",
    "    print(title)\n",
    "    title = title.upper()\n",
    "    print(title)\n",
    "    title = title.center(50, \"*\")\n",
    "    print(title)\n",
    "    return title\n",
    "def make_sentence(sentance):\n",
    "    pass\n",
    "print(make_title(\" *** ///   Times of india    \"))\n",
    "print(make_sentence('''hello world... welcome to python programming   \n",
    "**** /////'''))\n",
    "\n"
   ]
  },
  {
   "cell_type": "code",
   "execution_count": 17,
   "id": "19da8e2f-fce9-4328-a8b9-0115ab0a6493",
   "metadata": {},
   "outputs": [
    {
     "name": "stdout",
     "output_type": "stream",
     "text": [
      "Study On Image Watermarking\n"
     ]
    }
   ],
   "source": [
    "sub_heading = '''study on image watermarking'''\n",
    "sub_heading = sub_heading.title()\n",
    "print(sub_heading)"
   ]
  },
  {
   "cell_type": "code",
   "execution_count": 34,
   "id": "b22e52a6-9f5f-483e-bd52-6043354b680d",
   "metadata": {},
   "outputs": [
    {
     "name": "stdout",
     "output_type": "stream",
     "text": [
      "study on image watermarking\n",
      "['study', 'on', 'image', 'watermarking']\n",
      "Study\n",
      "On\n",
      "Image\n",
      "Watermarking\n",
      "Study On Image Watermarking\n"
     ]
    }
   ],
   "source": [
    "small = 'abcdefghijklmnopqrstuvwxyz'\n",
    "caps = small.upper()\n",
    "def make_title(sentance):\n",
    "    print(sentance)\n",
    "    \n",
    "    # 1. Split sentance into words\n",
    "    words = sentance.split() # default = \" \"\n",
    "    print(words)\n",
    "\n",
    "    # 2. Empty list\n",
    "    final_words = []\n",
    "\n",
    "    # 3. Going through each word\n",
    "    for word in words:# w: study\n",
    "        if word[0] in small: # is 's' in small\n",
    "            index = small.index(word[0]) # 4. where is 's' \n",
    "            #print(f\" Index = {index}\")\n",
    "            cap = caps[index] # 5. Getting capital letter\n",
    "            final_word = cap + word[1:] #6. Appending \n",
    "            print(final_word)\n",
    "            final_words.append(final_word) # 7. Appending final_word to list\n",
    "            \n",
    "    final_sentance = \" \".join(final_words) # 8. Join all the string in final_words with \" \" as delimiter\n",
    "    return final_sentance\n",
    "\n",
    "print(make_title(\"study on image watermarking\"))"
   ]
  },
  {
   "cell_type": "code",
   "execution_count": 24,
   "id": "8577e982-6413-446c-a432-d7787bff7adf",
   "metadata": {},
   "outputs": [
    {
     "name": "stdout",
     "output_type": "stream",
     "text": [
      "52\n"
     ]
    }
   ],
   "source": []
  },
  {
   "cell_type": "code",
   "execution_count": null,
   "id": "1e1d0831-ee69-43f2-b8fc-785345c84a87",
   "metadata": {},
   "outputs": [],
   "source": []
  }
 ],
 "metadata": {
  "kernelspec": {
   "display_name": "Python 3 (ipykernel)",
   "language": "python",
   "name": "python3"
  },
  "language_info": {
   "codemirror_mode": {
    "name": "ipython",
    "version": 3
   },
   "file_extension": ".py",
   "mimetype": "text/x-python",
   "name": "python",
   "nbconvert_exporter": "python",
   "pygments_lexer": "ipython3",
   "version": "3.12.7"
  }
 },
 "nbformat": 4,
 "nbformat_minor": 5
}
