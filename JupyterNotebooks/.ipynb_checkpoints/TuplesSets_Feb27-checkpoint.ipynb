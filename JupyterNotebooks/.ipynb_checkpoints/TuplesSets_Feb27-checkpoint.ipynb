{
 "cells": [
  {
   "cell_type": "code",
   "execution_count": 6,
   "id": "1ec17563-b988-4363-9f17-0df367a55570",
   "metadata": {},
   "outputs": [
    {
     "name": "stdout",
     "output_type": "stream",
     "text": [
      "0\n",
      "1\n",
      "[<function <lambda> at 0x111852ac0>, <function <lambda> at 0x110ad3c40>, <function <lambda> at 0x1119582c0>, <function <lambda> at 0x111958360>, <function <lambda> at 0x111958a40>, <function <lambda> at 0x111958d60>, <function <lambda> at 0x111958ea0>, <function <lambda> at 0x111958f40>, <function <lambda> at 0x111958fe0>, <function <lambda> at 0x1119580e0>, <function <lambda> at 0x111959300>, <function <lambda> at 0x1119593a0>, <function <lambda> at 0x111959440>, <function <lambda> at 0x1119594e0>, <function <lambda> at 0x111959580>, <function <lambda> at 0x111959620>, <function <lambda> at 0x1119596c0>, <function <lambda> at 0x111959760>, <function <lambda> at 0x111959800>, <function <lambda> at 0x1119598a0>, <function <lambda> at 0x111959940>, <function <lambda> at 0x1119599e0>, <function <lambda> at 0x111959a80>, <function <lambda> at 0x111959b20>, <function <lambda> at 0x111959bc0>, <function <lambda> at 0x111959c60>, <function <lambda> at 0x111959d00>, <function <lambda> at 0x111959da0>, <function <lambda> at 0x111959e40>, <function <lambda> at 0x111959ee0>, <function <lambda> at 0x111959f80>, <function <lambda> at 0x11195a020>, <function <lambda> at 0x11195a0c0>, <function <lambda> at 0x11195a160>, <function <lambda> at 0x11195a200>, <function <lambda> at 0x11195a2a0>, <function <lambda> at 0x11195a340>, <function <lambda> at 0x11195a3e0>, <function <lambda> at 0x11195a480>, <function <lambda> at 0x11195a520>, <function <lambda> at 0x11195a5c0>, <function <lambda> at 0x11195a660>, <function <lambda> at 0x11195a700>, <function <lambda> at 0x11195a7a0>, <function <lambda> at 0x11195a840>, <function <lambda> at 0x11195a8e0>, <function <lambda> at 0x11195a980>, <function <lambda> at 0x11195aa20>, <function <lambda> at 0x11195aac0>, <function <lambda> at 0x11195ab60>, <function <lambda> at 0x11195ac00>, <function <lambda> at 0x11195aca0>, <function <lambda> at 0x11195ad40>, <function <lambda> at 0x11195ade0>, <function <lambda> at 0x11195ae80>, <function <lambda> at 0x11195af20>, <function <lambda> at 0x11195afc0>, <function <lambda> at 0x11195b060>, <function <lambda> at 0x11195b100>, <function <lambda> at 0x11195b1a0>, <function <lambda> at 0x11195b240>, <function <lambda> at 0x11195b2e0>, <function <lambda> at 0x11195b380>, <function <lambda> at 0x11195b420>, <function <lambda> at 0x11195b4c0>, <function <lambda> at 0x11195b560>, <function <lambda> at 0x11195b600>, <function <lambda> at 0x11195b6a0>, <function <lambda> at 0x11195b740>, <function <lambda> at 0x11195b7e0>, <function <lambda> at 0x11195b880>, <function <lambda> at 0x11195b920>, <function <lambda> at 0x11195b9c0>, <function <lambda> at 0x11195ba60>, <function <lambda> at 0x11195bb00>, <function <lambda> at 0x11195bba0>, <function <lambda> at 0x11195bc40>, <function <lambda> at 0x11195bce0>, <function <lambda> at 0x11195bd80>, <function <lambda> at 0x11195be20>, <function <lambda> at 0x11195bec0>, <function <lambda> at 0x11195bf60>, <function <lambda> at 0x1120f8040>, <function <lambda> at 0x1120f80e0>, <function <lambda> at 0x1120f8180>, <function <lambda> at 0x1120f8220>, <function <lambda> at 0x1120f82c0>, <function <lambda> at 0x1120f8360>, <function <lambda> at 0x1120f8400>, <function <lambda> at 0x1120f84a0>, <function <lambda> at 0x1120f8540>, <function <lambda> at 0x1120f85e0>, <function <lambda> at 0x1120f8680>, <function <lambda> at 0x1120f8720>, <function <lambda> at 0x1120f87c0>, <function <lambda> at 0x1120f8860>, <function <lambda> at 0x1120f8900>, <function <lambda> at 0x1120f89a0>, <function <lambda> at 0x1120f8a40>, <function <lambda> at 0x1120f8ae0>]\n"
     ]
    }
   ],
   "source": [
    "# List comprehension\n",
    "\n",
    "m1 = iter(map(lambda x:x**2, range(100)))\n",
    "\n",
    "# Lazy calculation\n",
    "element = next(m1)\n",
    "print(element)\n",
    "element = next(m1)\n",
    "print(element)\n",
    "\n",
    "# [ operation(x) for x in range(100)]\n",
    "result = [x**2 for i in range(100)]\n",
    "print(result)\n",
    "\n"
   ]
  },
  {
   "cell_type": "code",
   "execution_count": 26,
   "id": "7d8d33d9-5a83-4c07-9b97-2d50987bd37b",
   "metadata": {},
   "outputs": [
    {
     "name": "stdout",
     "output_type": "stream",
     "text": [
      "t1 = (12, 45, 1.1, [1, 2, 3, 4, (5, 6, 7)], 'Welcome')\n",
      "<class 'tuple'>\n",
      "Number of 12s in t1 = 1, using cout()\n",
      "Index of 12 in t1 = 0, using idnex()\n"
     ]
    },
    {
     "data": {
      "text/plain": [
       "0"
      ]
     },
     "execution_count": 26,
     "metadata": {},
     "output_type": "execute_result"
    }
   ],
   "source": [
    "\n",
    "# Strings,Lists,tuples,dictionaries and sets\n",
    "\n",
    "# Tuples\n",
    "# Initialization\n",
    "t1 = (12, 45,1.1, [1,2,3,4, (5,6,7)], \"Welcome\")\n",
    "print(f\"t1 = {t1}\")\n",
    "t2 = 1,2,3,4,5,6,\"String\"\n",
    "print(type(t2))\n",
    "\n",
    "#Modification\n",
    "#t1[0] = 120: \n",
    "t1[3][0] = 100\n",
    "#t1[3][4][0] = 500 \n",
    "\n",
    "# Member funs\n",
    "print(f\"Number of 12s in t1 = {t1.count(12)}, using cout()\")\n",
    "print(f\"Index of 12 in t1 = {t1.index(12)}, using idnex()\")\n",
    "\n",
    "# CONVERTING TO TUPLE\n",
    "nums = [14,56,17,89,0,-1]\n",
    "nums = tuple(nums)\n",
    "#nums[0] = 10\n",
    "\n",
    "result = (x**2 for x in range(100))\n",
    "it1 = iter(result)\n",
    "next(it1)"
   ]
  },
  {
   "cell_type": "code",
   "execution_count": 33,
   "id": "d8ee9445-22e7-44c5-89b7-08e3684d2acb",
   "metadata": {},
   "outputs": [
    {
     "name": "stdout",
     "output_type": "stream",
     "text": [
      " Batsmen = {'sachin', 'kapil', 'kohli', 'gavaskar', 'axar'}\n",
      " Bowlers = {'kapil', 'axar', 'bumra', 'shami', 'prasad'}\n",
      "{'k', 'e', ',', 'h', 'l', '.', 'i', 'u', 'y', 't', 'n', ' ', 'g', 'm', 'c', 'w', 'o', 'a', 'r', 'p'}\n",
      "{'k': 1, 'e': 4, ',': 1, 'h': 5, 'l': 1, '.': 3, 'i': 1, 'u': 1, 'y': 1, 't': 3, 'n': 1, ' ': 8, 'g': 1, 'm': 2, 'c': 2, 'w': 2, 'o': 6, 'a': 4, 'r': 3, 'p': 1}\n"
     ]
    }
   ],
   "source": [
    "# Sets\n",
    "# initializtion\n",
    "batsmen = set(\"kapil kapil sachin kohli gavaskar axar\".split())\n",
    "bowlers = set(\"kapil prasad bumra shami axar\".split())\n",
    "print(f\" Batsmen = {batsmen}\")\n",
    "print(f\" Bowlers = {bowlers}\")\n",
    "\n",
    "# Histogram\n",
    "message = list(\"hi, how are you... welcome to the hackathon program\")\n",
    "letters = set(message)\n",
    "print(letters)\n",
    "hist = {}\n",
    "for char in letters:\n",
    "    hist[char] = message.count(char)\n",
    "print(hist)"
   ]
  },
  {
   "cell_type": "code",
   "execution_count": 34,
   "id": "82ea6796-0f6f-4964-b43d-d03b1555ccd2",
   "metadata": {},
   "outputs": [
    {
     "name": "stdout",
     "output_type": "stream",
     "text": [
      "{'a': 10, 'b': 20}\n"
     ]
    }
   ],
   "source": [
    "d1 = {}\n",
    "d1[\"a\"] = 10\n",
    "d1[\"b\"] = 20\n",
    "print(d1)"
   ]
  },
  {
   "cell_type": "code",
   "execution_count": 2,
   "id": "4107045b-6f66-4c69-a6c9-7daa212b0fba",
   "metadata": {},
   "outputs": [
    {
     "name": "stdout",
     "output_type": "stream",
     "text": [
      " Batsmen = {'kohli', 'gavaskar', 'axar', 'sachin', 'kapil'}\n",
      " Bowlers = {'bumra', 'shami', 'axar', 'prasad', 'kapil'}\n",
      "Only batsmen = {'kohli', 'sachin', 'gavaskar'}\n",
      "Only bowlers = {'prasad', 'bumra', 'shami'}\n",
      "Allrounders = {'axar', 'kapil'}\n",
      "Whole team = {'kohli', 'gavaskar', 'bumra', 'shami', 'axar', 'prasad', 'sachin', 'kapil'}\n"
     ]
    },
    {
     "ename": "TypeError",
     "evalue": "unsupported operand type(s) for +: 'set' and 'set'",
     "output_type": "error",
     "traceback": [
      "\u001b[0;31m---------------------------------------------------------------------------\u001b[0m",
      "\u001b[0;31mTypeError\u001b[0m                                 Traceback (most recent call last)",
      "Cell \u001b[0;32mIn[2], line 18\u001b[0m\n\u001b[1;32m     15\u001b[0m wholeteam \u001b[38;5;241m=\u001b[39m batsmen \u001b[38;5;241m|\u001b[39m bowlers \u001b[38;5;66;03m# |\u001b[39;00m\n\u001b[1;32m     16\u001b[0m \u001b[38;5;28mprint\u001b[39m(\u001b[38;5;124mf\u001b[39m\u001b[38;5;124m\"\u001b[39m\u001b[38;5;124mWhole team = \u001b[39m\u001b[38;5;132;01m{\u001b[39;00mwholeteam\u001b[38;5;132;01m}\u001b[39;00m\u001b[38;5;124m\"\u001b[39m)\n\u001b[0;32m---> 18\u001b[0m wholeteam \u001b[38;5;241m=\u001b[39m batsmen \u001b[38;5;241m+\u001b[39m bowlers \u001b[38;5;66;03m# |\u001b[39;00m\n\u001b[1;32m     19\u001b[0m \u001b[38;5;28mprint\u001b[39m(\u001b[38;5;124mf\u001b[39m\u001b[38;5;124m\"\u001b[39m\u001b[38;5;124mWhole team = \u001b[39m\u001b[38;5;132;01m{\u001b[39;00mwholeteam\u001b[38;5;132;01m}\u001b[39;00m\u001b[38;5;124m\"\u001b[39m)\n",
      "\u001b[0;31mTypeError\u001b[0m: unsupported operand type(s) for +: 'set' and 'set'"
     ]
    }
   ],
   "source": [
    "batsmen = set(\"kapil kapil sachin kohli gavaskar axar\".split())\n",
    "bowlers = set(\"kapil prasad bumra shami axar\".split())\n",
    "print(f\" Batsmen = {batsmen}\")\n",
    "print(f\" Bowlers = {bowlers}\")\n",
    "\n",
    "onlybatsmem = batsmen-bowlers # -\n",
    "print(f\"Only batsmen = {onlybatsmem}\")\n",
    "\n",
    "onlybowlers = bowlers-batsmen # -\n",
    "print(f\"Only bowlers = {onlybowlers}\")\n",
    "\n",
    "allrounders = batsmen & bowlers # &\n",
    "print(f\"Allrounders = {allrounders}\")\n",
    "\n",
    "wholeteam = batsmen | bowlers # |\n",
    "print(f\"Whole team = {wholeteam}\")\n"
   ]
  },
  {
   "cell_type": "code",
   "execution_count": null,
   "id": "2132ba69-29e2-4f00-800a-436e3f79aa63",
   "metadata": {},
   "outputs": [],
   "source": []
  }
 ],
 "metadata": {
  "kernelspec": {
   "display_name": "Python 3 (ipykernel)",
   "language": "python",
   "name": "python3"
  },
  "language_info": {
   "codemirror_mode": {
    "name": "ipython",
    "version": 3
   },
   "file_extension": ".py",
   "mimetype": "text/x-python",
   "name": "python",
   "nbconvert_exporter": "python",
   "pygments_lexer": "ipython3",
   "version": "3.12.7"
  }
 },
 "nbformat": 4,
 "nbformat_minor": 5
}
