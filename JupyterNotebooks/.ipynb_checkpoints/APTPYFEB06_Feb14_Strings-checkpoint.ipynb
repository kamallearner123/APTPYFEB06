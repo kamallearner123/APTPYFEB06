{
 "cells": [
  {
   "cell_type": "code",
   "execution_count": 16,
   "id": "be63ac65-46b2-4f0d-b0c4-c49bf16323fb",
   "metadata": {},
   "outputs": [
    {
     "name": "stdout",
     "output_type": "stream",
     "text": [
      "mada\n",
      "Not\n"
     ]
    }
   ],
   "source": [
    "# Strings\n",
    "\n",
    "s1 = \"madam\"\n",
    "\n",
    "# s1[start:stop:increment] # range(0,100,5)\n",
    "# s1[100] : start 100, stop 101: increment 1\n",
    "# s1[::2] : start 0, stop len(s1), \n",
    "\n",
    "# s1[::-1] : if increment -ve\n",
    "#          : -1:-len(s1+1): -inc\n",
    "#          : -1:-11: -1\n",
    "\n",
    "s2 = s1[-1:-11:-1]\n",
    "\n",
    "if s1 == s2:\n",
    "    print(\"It is palindrome\")\n",
    "else:\n",
    "    print(\"Not\")"
   ]
  },
  {
   "cell_type": "code",
   "execution_count": null,
   "id": "c6bb1616-93fc-4fb5-91a8-6b0d873d0e12",
   "metadata": {},
   "outputs": [],
   "source": []
  }
 ],
 "metadata": {
  "kernelspec": {
   "display_name": "Python 3 (ipykernel)",
   "language": "python",
   "name": "python3"
  },
  "language_info": {
   "codemirror_mode": {
    "name": "ipython",
    "version": 3
   },
   "file_extension": ".py",
   "mimetype": "text/x-python",
   "name": "python",
   "nbconvert_exporter": "python",
   "pygments_lexer": "ipython3",
   "version": "3.12.7"
  }
 },
 "nbformat": 4,
 "nbformat_minor": 5
}
