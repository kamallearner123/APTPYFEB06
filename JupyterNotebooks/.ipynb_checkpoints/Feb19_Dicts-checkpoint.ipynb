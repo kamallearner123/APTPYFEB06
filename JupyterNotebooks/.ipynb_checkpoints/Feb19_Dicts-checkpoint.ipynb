{
 "cells": [
  {
   "cell_type": "code",
   "execution_count": 7,
   "id": "08608363-93a8-4984-85fa-f12de9bd12fe",
   "metadata": {},
   "outputs": [
    {
     "name": "stdout",
     "output_type": "stream",
     "text": [
      "h\n",
      "h\n",
      ",\n",
      "All testcases pass\n"
     ]
    }
   ],
   "source": [
    "\n",
    "def find_non_repeat_chars(s):\n",
    "    words=[]\n",
    "    for i in s:# i = 'h'\n",
    "        words.append(i) # words ['h']\n",
    "        \n",
    "    for j in words: # words = 'h' 'e' 'l' 'l' 'o'\n",
    "        count=words.count(j) \n",
    "        if count==1:\n",
    "            print(j)\n",
    "            return j\n",
    "    \n",
    "\n",
    "\n",
    "# Test case 1\n",
    "s = \"hello\"\n",
    "assert find_non_repeat_chars(s) == \"h\"\n",
    "\n",
    "# Test case 2\n",
    "s = \"hello world\"\n",
    "assert find_non_repeat_chars(s) == \"h\"\n",
    "\n",
    "# Test case 3\n",
    "s = \"hello, worldh is a test\"\n",
    "assert find_non_repeat_chars(s) == \",\"\n",
    "\n",
    "print(\"All testcases pass\")"
   ]
  },
  {
   "cell_type": "code",
   "execution_count": 8,
   "id": "915021da-33d6-48a6-ab91-87dcf80290c0",
   "metadata": {},
   "outputs": [
    {
     "data": {
      "text/plain": [
       "'\\n1) key:value pair\\n    d1 = {\"Name\":\"David\"}\\n2) Enclosed with {}\\n3) Access: (if it is existing)\\n    d1[\"Name\"]\\n4) Add new pair:\\n    d1[\"age\"] = 10\\n5) methods: get, update, keys, items, etc...\\n6) For loop\\n7) copy, deep copy\\n8) Problems: Histogram, graphs.\\n'"
      ]
     },
     "execution_count": 8,
     "metadata": {},
     "output_type": "execute_result"
    }
   ],
   "source": [
    "# Dictionaries:\n",
    "'''\n",
    "1) key:value pair\n",
    "    d1 = {\"Name\":\"David\"}\n",
    "2) Enclosed with {}\n",
    "3) Access: (if it is existing)\n",
    "    d1[\"Name\"]\n",
    "4) Add new pair:\n",
    "    d1[\"age\"] = 10\n",
    "5) methods: get, update, keys, items, etc...\n",
    "6) For loop\n",
    "7) copy, deep copy\n",
    "8) Problems: Histogram, graphs.\n",
    "'''"
   ]
  },
  {
   "cell_type": "code",
   "execution_count": 36,
   "id": "239c5af6-7201-44d4-8405-82baea32fb9a",
   "metadata": {},
   "outputs": [
    {
     "name": "stdout",
     "output_type": "stream",
     "text": [
      " Students : ['David', 'Ram', 'Saleem', 'Ravi'], having sub: Eng\n",
      " Students : ['David', 'Ram', 'Ravi'], having sub: Maths\n"
     ]
    }
   ],
   "source": [
    "d1 = {\"David\": \n",
    "              {\"Full Name\": \"David John\", \n",
    "               \"Age\":       10, \n",
    "               \"Subs\":      (\"Eng\", \"Maths\")},\n",
    "      \"Ram\":\n",
    "                {\"Full Name\": \"Ram Kumar\", \n",
    "                 \"Age\":       12, \n",
    "                 \"Subs\":      (\"Eng\", \"Maths\", \"Science\")},\n",
    "        \"Saleem\":\n",
    "                {\"Full Name\": \"Saleem Khan\", \n",
    "                 \"Age\":       13, \n",
    "                 \"Subs\":      (\"Eng\", \"Science\", \"Social\")},\n",
    "        \"Ravi\":\n",
    "                {\"Full Name\": \"Ravi Kumar\", \n",
    "                 \"Age\":       14, \n",
    "                 \"Subs\":      (\"Eng\", \"Maths\", \"Social\")},\n",
    "        \"Raj\":\n",
    "                {\"Full Name\": \"Raj Kumar\", \n",
    "                 \"Age\":       15}\n",
    "}\n",
    "# print(d1)\n",
    "# print(d1[\"David\"])\n",
    "# print(d1[\"David\"][\"Subs\"])\n",
    "# print(d1[\"David\"][\"Subs\"][0])\n",
    "\n",
    "# Write a function to return list students who have \"Science\" as one of their subjects.\n",
    "def get_students_beased_on_sub(d1, sub):\n",
    "    # return list of names\n",
    "    result = [] #1. \n",
    "    for name, details in d1.items(): # 2. Traversing through all key,value pairs\n",
    "        for key, value in details.items():\n",
    "        if details.get(\"Subs\") is not None: # Safe gaurd\n",
    "            if sub in details[\"Subs\"]:  # 3. Find sub in Subs\n",
    "                result.append(name)    # 4. Append \n",
    "    return result\n",
    "    \n",
    "print(f\" Students : {get_students_beased_on_sub(d1, \"Eng\")}, having sub: Eng\")\n",
    "print(f\" Students : {get_students_beased_on_sub(d1, \"Maths\")}, having sub: Maths\")\n"
   ]
  },
  {
   "cell_type": "code",
   "execution_count": 24,
   "id": "a9af7087-d475-4a33-80ac-79403364089e",
   "metadata": {},
   "outputs": [
    {
     "name": "stdout",
     "output_type": "stream",
     "text": [
      "David {'Full Name': 'David John', 'Age': 10, 'Subs': ('Eng', 'Maths')}\n",
      "Ram {'Full Name': 'Ram Kumar', 'Age': 12, 'Subs': ('Eng', 'Maths', 'Science')}\n",
      "Saleem {'Full Name': 'Saleem Khan', 'Age': 13, 'Subs': ('Eng', 'Science', 'Social')}\n"
     ]
    }
   ],
   "source": [
    "d1 = {\"David\": \n",
    "              {\"Full Name\": \"David John\", \n",
    "               \"Age\":       10, \n",
    "               \"Subs\":      (\"Eng\", \"Maths\")},\n",
    "      \"Ram\":\n",
    "                {\"Full Name\": \"Ram Kumar\", \n",
    "                 \"Age\":       12, \n",
    "                 \"Subs\":      (\"Eng\", \"Maths\", \"Science\")},\n",
    "        \"Saleem\":\n",
    "                {\"Full Name\": \"Saleem Khan\", \n",
    "                 \"Age\":       13, \n",
    "                 \"Subs\":      (\"Eng\", \"Science\", \"Social\")}\n",
    "}\n",
    "\n",
    "for key,value in d1.items():\n",
    "    print(key, value)"
   ]
  },
  {
   "cell_type": "code",
   "execution_count": 34,
   "id": "8acb8d2e-c0be-439a-9082-44e0a14ad324",
   "metadata": {},
   "outputs": [
    {
     "name": "stdout",
     "output_type": "stream",
     "text": [
      "Raj Kumar\n",
      "None\n"
     ]
    },
    {
     "ename": "KeyError",
     "evalue": "'Subs'",
     "output_type": "error",
     "traceback": [
      "\u001b[0;31m---------------------------------------------------------------------------\u001b[0m",
      "\u001b[0;31mKeyError\u001b[0m                                  Traceback (most recent call last)",
      "Cell \u001b[0;32mIn[34], line 25\u001b[0m\n\u001b[1;32m     23\u001b[0m \u001b[38;5;28mprint\u001b[39m(Raj\u001b[38;5;241m.\u001b[39mget(\u001b[38;5;124m\"\u001b[39m\u001b[38;5;124mFull Name\u001b[39m\u001b[38;5;124m\"\u001b[39m))\n\u001b[1;32m     24\u001b[0m \u001b[38;5;28mprint\u001b[39m(Raj\u001b[38;5;241m.\u001b[39mget(\u001b[38;5;124m\"\u001b[39m\u001b[38;5;124mSubs\u001b[39m\u001b[38;5;124m\"\u001b[39m))\n\u001b[0;32m---> 25\u001b[0m \u001b[43mRaj\u001b[49m\u001b[43m[\u001b[49m\u001b[38;5;124;43m\"\u001b[39;49m\u001b[38;5;124;43mSubs\u001b[39;49m\u001b[38;5;124;43m\"\u001b[39;49m\u001b[43m]\u001b[49m\n",
      "\u001b[0;31mKeyError\u001b[0m: 'Subs'"
     ]
    }
   ],
   "source": [
    "d1 = {\"David\": \n",
    "              {\"Full Name\": \"David John\", \n",
    "               \"Age\":       10, \n",
    "               \"Subs\":      (\"Eng\", \"Maths\")},\n",
    "      \"Ram\":\n",
    "                {\"Full Name\": \"Ram Kumar\", \n",
    "                 \"Age\":       12, \n",
    "                 \"Subs\":      (\"Eng\", \"Maths\", \"Science\")},\n",
    "        \"Saleem\":\n",
    "                {\"Full Name\": \"Saleem Khan\", \n",
    "                 \"Age\":       13, \n",
    "                 \"Subs\":      (\"Eng\", \"Science\", \"Social\")},\n",
    "        \"Ravi\":\n",
    "                {\"Full Name\": \"Ravi Kumar\", \n",
    "                 \"Age\":       14, \n",
    "                 \"Subs\":      (\"Eng\", \"Maths\", \"Social\")},\n",
    "        \"Raj\":\n",
    "                {\"Full Name\": \"Raj Kumar\", \n",
    "                 \"Age\":       15}\n",
    "}\n",
    "\n",
    "Raj = d1[\"Raj\"]\n",
    "print(Raj.get(\"Full Name\"))\n",
    "print(Raj.get(\"Subs\"))\n",
    "# Raj[\"Subs\"]"
   ]
  },
  {
   "cell_type": "code",
   "execution_count": 40,
   "id": "a2fddc08-b92e-4a97-a480-6bea05893019",
   "metadata": {},
   "outputs": [
    {
     "name": "stdout",
     "output_type": "stream",
     "text": [
      "{'Ram': 123}\n"
     ]
    }
   ],
   "source": [
    "d1={\"Ram\":123}\n",
    "#d1[\"Ram\"] = 345\n",
    "d1.setdefault(\"Ram\", 345)  # If key is not there, then only this entry gets added\n",
    "print(d1)"
   ]
  },
  {
   "cell_type": "code",
   "execution_count": null,
   "id": "f47f5d72-8027-4718-ab9d-6c8f35dda222",
   "metadata": {},
   "outputs": [],
   "source": []
  }
 ],
 "metadata": {
  "kernelspec": {
   "display_name": "Python (playground)",
   "language": "python",
   "name": "myenv"
  },
  "language_info": {
   "codemirror_mode": {
    "name": "ipython",
    "version": 3
   },
   "file_extension": ".py",
   "mimetype": "text/x-python",
   "name": "python",
   "nbconvert_exporter": "python",
   "pygments_lexer": "ipython3",
   "version": "3.12.9"
  }
 },
 "nbformat": 4,
 "nbformat_minor": 5
}
