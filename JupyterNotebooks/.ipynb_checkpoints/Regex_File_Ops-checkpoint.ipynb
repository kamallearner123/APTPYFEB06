{
 "cells": [
  {
   "cell_type": "code",
   "execution_count": 15,
   "id": "8fa850b8-5ae1-409f-a80d-7915d849b7ce",
   "metadata": {},
   "outputs": [
    {
     "name": "stdout",
     "output_type": "stream",
     "text": [
      "192.168.1.100\n",
      "192.168.1.101\n",
      "192.168.1.102\n"
     ]
    }
   ],
   "source": [
    "#1)  Read file\n",
    "fd = open(\"data.txt\") # 'r' - READ Only\n",
    "data = fd.read()\n",
    "fd.close()\n",
    "\n",
    "#2) Make expression ready\n",
    "regex = r\"\\d{1,3}\\.\\d{1,3}\\.\\d{1,3}\\.\\d{1,3}\"\n",
    "\n",
    "\n",
    "# 3) Import re\n",
    "import re\n",
    "\n",
    "# 4) calling findall\n",
    "matches = re.findall(regex, data)\n",
    "for ip in matches:\n",
    "    print(ip)\n",
    "\n",
    "\n",
    "# 5) Open file to write\n",
    "fd = open(\"result.csv\", \"w\") \n",
    "fd.write(\"IP address, HW Address\\n\")\n",
    "for ip in matches:\n",
    "    fd.write(ip+\",\"+\"aa.bb.cc.00\"+\"\\n\")\n",
    "fd.close()"
   ]
  },
  {
   "cell_type": "code",
   "execution_count": 7,
   "id": "3029323b-d1ef-4e0f-948e-904517426f7b",
   "metadata": {},
   "outputs": [
    {
     "name": "stdout",
     "output_type": "stream",
     "text": [
      "No exception raised!!! :)\n",
      "Finally....!!!!\n",
      "No exception raised!!! :)\n",
      "Finally....!!!!\n",
      "Continuing\n",
      "Success Count = 2, Failure count = 0\n"
     ]
    }
   ],
   "source": [
    "CountSuccess = 0\n",
    "CountFailure = 0\n",
    "\n",
    "def get_speed(file):\n",
    "    global CountFailure\n",
    "    global CountSuccess\n",
    "    speed = -1\n",
    "    try:\n",
    "        fd = open(file) # 'r' - READ Only\n",
    "        data = fd.readlines()\n",
    "        fd.close()\n",
    "    \n",
    "        var1 = 100 # distance\n",
    "        var2 = 0 # time\n",
    "        #speed = var1/var2 # ZeroDivisionError\n",
    "        \n",
    "    except FileNotFoundError:\n",
    "        CountFailure +=1\n",
    "        print(\"File not found!!!\")\n",
    "    except ZeroDivisionError:\n",
    "        CountFailure +=1\n",
    "        print(\"Wrong with parameters!!!\")\n",
    "        # raise alrm \n",
    "    except Exception as e:\n",
    "        CountFailure +=1\n",
    "        print(\"Exception is \", e)\n",
    "    else:\n",
    "        CountSuccess += 1\n",
    "        print(\"No exception raised!!! :)\")\n",
    "    finally: # always\n",
    "        print(\"Finally....!!!!\")\n",
    "\n",
    "    return speed\n",
    "\n",
    "\n",
    "get_speed(\"data.txt\")\n",
    "get_speed(\"data.txt\")\n",
    "print(\"Continuing\")\n",
    "print(f\"Success Count = {CountSuccess}, Failure count = {CountFailure}\")\n"
   ]
  },
  {
   "cell_type": "code",
   "execution_count": 8,
   "id": "2a327a6e-567a-4c2f-8cbf-7d5516192dd2",
   "metadata": {},
   "outputs": [
    {
     "name": "stdout",
     "output_type": "stream",
     "text": [
      "lease 101192.168.1.100000 lease {\n",
      "  starts ; 3 2025/03/12 12000:00:00AM;\n",
      "  ends 3 2025/03/12 10:00:00PM;\n",
      "  cltt 3 2025/03/12 12:00:00PM;\n",
      "  binding state active;\n",
      " 0o071234\n",
      "  next binding state free;\n",
      "  hardware ethernet 00:1A:2B:3C:4D:5E;\n",
      "  uid \"\\001\\000\\032+<M^\";\n",
      "  client-hostname \"client-PC\";\n",
      "}\n",
      "192.168.1.101\n",
      "{\n",
      "  starts 3 2025/03/12 12:05:00;\n",
      "  ends 3 2025/03/12 18:05:00;\n",
      "  cltt 3 2025/03/12 12:05:00;\n",
      "  binding state active;\n",
      "  next binding state free;\n",
      "  hardware ethernet 00:10:20:3D:4E:5F;\n",
      "  client-hostname \"laptop-xyz\";\n",
      "}\n",
      "\n",
      "lease 192.168.1.102 {\n",
      "  starts 3 2025/03/12 12:10:00;\n",
      "  ends 3 2025/03/12 18:10:00;\n",
      "  cltt 3 2025/03/12 12:10:00;\n",
      "  binding state active;\n",
      "  next binding state free;\n",
      "  hardware ethernet 00:1C:2D:3E:4F:60;\n",
      "  uid \"\\001\\000\\034-3N`\";\n",
      "  client-hostname \"server-01\";\n",
      "}\n",
      "'''\n"
     ]
    }
   ],
   "source": [
    "!cat data.txt"
   ]
  },
  {
   "cell_type": "code",
   "execution_count": 37,
   "id": "93eefb00-77b1-416a-93c1-4da4db713399",
   "metadata": {},
   "outputs": [
    {
     "name": "stdout",
     "output_type": "stream",
     "text": [
      "         English  Hindi    Kannada\n",
      "count   2.000000    2.0   2.000000\n",
      "mean   30.000000   20.0  45.000000\n",
      "std    28.284271    0.0   7.071068\n",
      "min    10.000000   20.0  40.000000\n",
      "25%    20.000000   20.0  42.500000\n",
      "50%    30.000000   20.0  45.000000\n",
      "75%    40.000000   20.0  47.500000\n",
      "max    50.000000   20.0  50.000000\n",
      "     Name  English  Hindi  Kannada\n",
      "0  Rajesh       10     20       40\n",
      "1  Mahesh       50     20       50\n"
     ]
    },
    {
     "data": {
      "image/png": "[encoded data removed]",
      "text/plain": [
       "<Figure size 640x480 with 1 Axes>"
      ]
     },
     "metadata": {},
     "output_type": "display_data"
    }
   ],
   "source": [
    "%matplotlib inline\n",
    "import re\n",
    "import pandas as pd\n",
    "\n",
    "# Context Manager is implemted by fd class\n",
    "with open(\"data/StudentsData.txt\") as fd:\n",
    "    data = fd.read()\n",
    "    fields = re.findall(r\"(\\w+),\\s*(\\d{1,3}),\\s*(\\d{1,3}),\\s*(\\d{1,3})\", data)\n",
    "\n",
    "    d1 = {\"Name\":[], \"English\":[], \"Hindi\":[], \"Kannada\":[]}\n",
    "    for item in fields:\n",
    "        d1[\"Name\"].append(item[0])\n",
    "        d1[\"English\"].append(int(item[1]))\n",
    "        d1[\"Hindi\"].append(int(item[2]))\n",
    "        d1[\"Kannada\"].append(int(item[3]))\n",
    "        \n",
    "    df1 = pd.DataFrame(data=d1)\n",
    "    print(df1.describe())\n",
    "    print(df1)\n",
    "    df1.plot(\"Name\",\"English\")\n",
    "    \n",
    "\n",
    "# fd = open(\"data/StudentsData.txt\")\n",
    "# data = fd.read()\n",
    "# print(data)\n",
    "# fd.close()\n",
    "# fd.read()"
   ]
  },
  {
   "cell_type": "code",
   "execution_count": 19,
   "id": "b9f8b925-e69b-436a-80c4-98ca6d690617",
   "metadata": {},
   "outputs": [
    {
     "name": "stdout",
     "output_type": "stream",
     "text": [
      "Rajesh, 10, 20, 40\n",
      "Mahesh, 50, 20, 50"
     ]
    }
   ],
   "source": [
    "!cat data/StudentsData.txt"
   ]
  },
  {
   "cell_type": "code",
   "execution_count": 1,
   "id": "81eae71e-3705-4dee-85c3-c8a422e90d75",
   "metadata": {},
   "outputs": [
    {
     "name": "stdout",
     "output_type": "stream",
     "text": [
      "Collecting feedparser\n",
      "  Downloading feedparser-6.0.11-py3-none-any.whl.metadata (2.4 kB)\n",
      "Collecting sgmllib3k (from feedparser)\n",
      "  Downloading sgmllib3k-1.0.0.tar.gz (5.8 kB)\n",
      "  Preparing metadata (setup.py) ... \u001b[?25ldone\n",
      "\u001b[?25hDownloading feedparser-6.0.11-py3-none-any.whl (81 kB)\n",
      "Building wheels for collected packages: sgmllib3k\n",
      "  Building wheel for sgmllib3k (setup.py) ... \u001b[?25ldone\n",
      "\u001b[?25h  Created wheel for sgmllib3k: filename=sgmllib3k-1.0.0-py3-none-any.whl size=6047 sha256=5b33725b0a84ef4f82f735050083bf5d37b8bd9fdd464f8f2b63e88c1d5b88b2\n",
      "  Stored in directory: /Users/kamalmukiri/Library/Caches/pip/wheels/03/f5/1a/23761066dac1d0e8e683e5fdb27e12de53209d05a4a37e6246\n",
      "Successfully built sgmllib3k\n",
      "Installing collected packages: sgmllib3k, feedparser\n",
      "Successfully installed feedparser-6.0.11 sgmllib3k-1.0.0\n"
     ]
    }
   ],
   "source": [
    "\n",
    "# File operations:\n",
    "\n",
    "        \n",
    "!pip install feedparser\n"
   ]
  },
  {
   "cell_type": "code",
   "execution_count": 2,
   "id": "5970ac97-91a0-4f62-9876-16181080b89e",
   "metadata": {},
   "outputs": [],
   "source": [
    "import feedparser"
   ]
  },
  {
   "cell_type": "code",
   "execution_count": 25,
   "id": "26151b74-ed1b-4e0e-8a64-63f677894453",
   "metadata": {},
   "outputs": [
    {
     "name": "stdout",
     "output_type": "stream",
     "text": [
      "Feed Title: Breaking News Today, Top Headlines, Live Updates\n",
      "\n"
     ]
    }
   ],
   "source": [
    "import feedparser\n",
    "import re\n",
    "\n",
    "# URL of The Hindu's main RSS feed\n",
    "rss_url = 'https://www.thehindu.com/feeder/default.rss'\n",
    "\n",
    "# Parse the RSS feed\n",
    "feed = feedparser.parse(rss_url)\n",
    "\n",
    "# Display the feed title\n",
    "print(f\"Feed Title: {feed.feed.title}\\n\")\n",
    "\n",
    "# Keys words\n",
    "keywords = [\"Block Chain\",\"IOT\",\"Bitcoin\",\"India\"]\n",
    "\n",
    "html_content = f\"\"\"\n",
    "<!DOCTYPE html>\n",
    "<html lang=\"en\">\n",
    "<head>\n",
    "    <meta charset=\"UTF-8\">\n",
    "    <meta name=\"viewport\" content=\"width=device-width, initial-scale=1.0\">\n",
    "    <title>The Hindu News Feed</title>\n",
    "    <style>\n",
    "        body {{\n",
    "            font-family: Arial, sans-serif;\n",
    "            margin: 20px;\n",
    "            background-color: #f8f9fa;\n",
    "        }}\n",
    "        .news-container {{\n",
    "            max-width: 800px;\n",
    "            margin: auto;\n",
    "            background: white;\n",
    "            padding: 20px;\n",
    "            box-shadow: 0 0 10px rgba(0, 0, 0, 0.1);\n",
    "        }}\n",
    "        h2 {{\n",
    "            color: #0056b3;\n",
    "        }}\n",
    "        a {{\n",
    "            text-decoration: none;\n",
    "            color: #007bff;\n",
    "        }}\n",
    "        a:hover {{\n",
    "            text-decoration: underline;\n",
    "        }}\n",
    "        .news-item {{\n",
    "            border-bottom: 1px solid #ddd;\n",
    "            padding: 15px 0;\n",
    "        }}\n",
    "    </style>\n",
    "</head>\n",
    "<body>\n",
    "    <div class=\"news-container\">\n",
    "        <h1>{feed.feed.title}</h1>\n",
    "\"\"\"\n",
    "\n",
    "parsed_data = \"\"\n",
    "startExp = \".*\\s\"\n",
    "endExp = \"\\s.*\"\n",
    "\n",
    "with open(\"data/NewsUpdates.html\", \"w\") as fd:\n",
    "    # Iterate through the feed entries and display details\n",
    "    for entry in feed.entries:\n",
    "        for keyoword in keywords:\n",
    "            exp = startExp+keyoword+endExp\n",
    "            if re.match(exp,entry.title,re.IGNORECASE):\n",
    "                parsed_data += f\"\"\"\n",
    "                    <div class=\"news-item\">\n",
    "                        <h2><a href=\"{entry.link}\" target=\"_blank\">{entry.title}</a></h2>\n",
    "                        <p><strong>Published:</strong> {entry.published}</p>\n",
    "                        <p>{entry.summary}</p>\n",
    "                    </div>\n",
    "                \"\"\"\n",
    "    fd.write(parsed_data)\n",
    "    fd.write( \"\"\"\n",
    "        </div>\n",
    "    </body>\n",
    "    </html>\n",
    "    \"\"\")\n",
    "            \n"
   ]
  },
  {
   "cell_type": "code",
   "execution_count": 23,
   "id": "9f00be42-d669-4bac-be42-300f87951bf4",
   "metadata": {},
   "outputs": [
    {
     "name": "stdout",
     "output_type": "stream",
     "text": [
      "<re.Match object; span=(0, 11), match='hello kamal'>\n"
     ]
    }
   ],
   "source": [
    "import re\n",
    "text = \"hello kamal\"\n",
    "print(re.match(f\".*Kamal.*\", text, re.IGNORECASE))"
   ]
  },
  {
   "cell_type": "code",
   "execution_count": null,
   "id": "9348424b-98b8-47c3-abb4-bf1f50a5521f",
   "metadata": {},
   "outputs": [],
   "source": []
  }
 ],
 "metadata": {
  "kernelspec": {
   "display_name": "Python 3 (ipykernel)",
   "language": "python",
   "name": "python3"
  },
  "language_info": {
   "codemirror_mode": {
    "name": "ipython",
    "version": 3
   },
   "file_extension": ".py",
   "mimetype": "text/x-python",
   "name": "python",
   "nbconvert_exporter": "python",
   "pygments_lexer": "ipython3",
   "version": "3.12.7"
  }
 },
 "nbformat": 4,
 "nbformat_minor": 5
}
