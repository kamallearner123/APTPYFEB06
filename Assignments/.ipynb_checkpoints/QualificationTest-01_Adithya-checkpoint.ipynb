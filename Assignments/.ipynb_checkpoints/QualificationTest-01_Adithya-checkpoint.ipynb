{
 "cells": [
  {
   "cell_type": "markdown",
   "id": "06eeb1d3-547a-42d3-9482-903144b0b7c1",
   "metadata": {},
   "source": [
    "# Assignment 1: Nested List Processing\n",
    "Create a nested list representing a 3x3 matrix (e.g., [[1, 2, 3], [4, 5, 6], [7, 8, 9]]). Then:\n",
    "1. Write a function to transpose the matrix (swap rows and columns)\n",
    "2. Flatten the matrix into a single list using list comprehension\n",
    "3. Calculate the sum of diagonal elements (top-left to bottom-right)\n",
    "4. Print the original, transposed, flattened list, and diagonal sum\n"
   ]
  },
  {
   "cell_type": "code",
   "execution_count": null,
   "id": "fc8afda1-991e-4296-b610-ed9a32e35476",
   "metadata": {},
   "outputs": [],
   "source": []
  },
  {
   "cell_type": "markdown",
   "id": "cb29c300-b4c1-42e4-9d35-f9261c219baa",
   "metadata": {},
   "source": [
    "\n",
    "# Assignment 2: Advanced Dictionary Operations\n",
    "Create a dictionary representing a student database with at least 3 students, where each student has:\n",
    "- Name (string)\n",
    "- Grades (list of 5 integers)\n",
    "- Status (string: 'active' or 'inactive')\n",
    "Then:\n",
    "1. Write a function to calculate each student's average grade\n",
    "2. Create a new dictionary with only active students using dictionary comprehension\n",
    "3. Sort students by average grade (descending) and store in a list of tuples\n",
    "4. Print all results\n"
   ]
  },
  {
   "cell_type": "code",
   "execution_count": null,
   "id": "321ecf00-e1fb-4929-9d61-09bdebc8f924",
   "metadata": {},
   "outputs": [],
   "source": []
  },
  {
   "cell_type": "markdown",
   "id": "aada0cdb-dd28-475b-a4ed-553e92c51e4a",
   "metadata": {},
   "source": [
    "\n",
    "# Assignment 3: Set Theory Application\n",
    "Create three sets:\n",
    "- A: multiples of 3 up to 30\n",
    "- B: multiples of 5 up to 30\n",
    "- C: multiples of 7 up to 30\n",
    "Then:\n",
    "1. Find elements common to all three sets\n",
    "2. Find elements in exactly two of the sets (use symmetric difference and intersection)\n",
    "3. Create a set of all numbers up to 30 not in any of the sets\n",
    "4. Print all results with explanations\n"
   ]
  },
  {
   "cell_type": "code",
   "execution_count": null,
   "id": "72c2dcaf-5522-4bc0-914a-fa2ddf47dcfc",
   "metadata": {},
   "outputs": [],
   "source": []
  },
  {
   "cell_type": "markdown",
   "id": "29d2214a-53d2-4ac7-b2e3-6ed4787fa10f",
   "metadata": {},
   "source": [
    "\n",
    "# Assignment 4: Tuple as Records\n",
    "Create a tuple of tuples, where each inner tuple represents a product with:\n",
    "- Product ID (string)\n",
    "- Price (float)\n",
    "- Quantity (integer)\n",
    "For at least 5 products. Then:\n",
    "1. Write a function to find the total inventory value (price × quantity for all)\n",
    "2. Filter for products with quantity > 10 using a generator expression\n",
    "3. Convert the filtered results to a sorted list by price\n",
    "4. Print all results\n"
   ]
  },
  {
   "cell_type": "code",
   "execution_count": null,
   "id": "e0096204-430a-4da9-ab57-0ea56ca814a3",
   "metadata": {},
   "outputs": [],
   "source": []
  },
  {
   "cell_type": "markdown",
   "id": "36b74bbf-b3a4-4b20-aac5-8ab24ef2c264",
   "metadata": {},
   "source": [
    "\n",
    "# Assignment 5: Complex String Processing\n",
    "Take the string \"The quick brown fox jumps over the lazy dog, repeatedly!\"\n",
    "Then:\n",
    "1. Create a dictionary of character frequencies (case-insensitive)\n",
    "2. Write a function to find all palindromic substrings (length > 1)\n",
    "3. Use regex (import re) to extract all words ending with vowels\n",
    "4. Print all results\n"
   ]
  },
  {
   "cell_type": "code",
   "execution_count": null,
   "id": "8f450783-f701-455c-a761-f7a6d3dcbee6",
   "metadata": {},
   "outputs": [],
   "source": []
  },
  {
   "cell_type": "markdown",
   "id": "34d147d7-0fc6-4981-827d-4be14643ca65",
   "metadata": {},
   "source": [
    "\n",
    "# Assignment 6: List Comprehension with Conditions\n",
    "Using list comprehensions:\n",
    "1. Generate a list of all prime numbers between 1 and 100\n",
    "2. Create a list of tuples (x, y) where x + y = 50 and x, y are positive integers\n",
    "3. Filter the second list for pairs where both numbers are odd\n",
    "4. Print all results\n"
   ]
  },
  {
   "cell_type": "code",
   "execution_count": null,
   "id": "68297e44-764e-422d-b3ba-9bbe05eec9be",
   "metadata": {},
   "outputs": [],
   "source": []
  },
  {
   "cell_type": "markdown",
   "id": "b2ac558a-01e3-4152-b347-30b3428849e2",
   "metadata": {},
   "source": [
    "\n",
    "# Assignment 7: Dictionary of Dictionaries\n",
    "Create a dictionary representing a company with departments as keys and nested dictionaries as values. Each department has:\n",
    "- Manager (string)\n",
    "- Employees (list of names)\n",
    "- Budget (integer)\n",
    "For at least 3 departments. Then:\n",
    "1. Write a function to find the department with the most employees\n",
    "2. Increase each department's budget by 10% if it has > 5 employees\n",
    "3. Create a flat list of all employees across departments\n",
    "4. Print all results\n",
    "\n",
    "# Assignment 8: Set-Based Data Analysis\n",
    "Given a list of 20 random integers between 1 and 50 (use random module):\n",
    "1. Create a set of unique values\n",
    "2. Write a function to find all pairs of numbers that sum to 50\n",
    "3. Partition the set into two subsets with equal sums (if possible)\n",
    "4. Print the set, pairs, and partition result\n",
    "\n",
    "# Assignment 9: Tuple and Dictionary Integration\n",
    "Create a tuple of 5 records, each a dictionary with:\n",
    "- City (string)\n",
    "- Population (integer)\n",
    "- Coordinates (tuple of latitude, longitude as floats)\n",
    "Then:\n",
    "1. Write a function to calculate distance between any two cities using coordinates (use math module)\n",
    "2. Find the city with the largest population\n",
    "3. Sort cities by latitude and store as a new tuple\n",
    "4. Print all results\n",
    "\n",
    "# Assignment 10: Mixed Data Structure Challenge\n",
    "Create a dictionary representing a library system with:\n",
    "- Books (dictionary of ISBN: {title, author, copies})\n",
    "- Borrowers (set of IDs)\n",
    "- Loans (list of tuples: (borrower_id, ISBN, due_date))\n",
    "For at least 5 books and 3 borrowers. Then:\n",
    "1. Write a function to find overdue books (use current date: March 02, 2025)\n",
    "2. Update book copies when a book is returned\n",
    "3. Create a set of borrowers with multiple loans\n",
    "4. Print the updated system state"
   ]
  }
 ],
 "metadata": {
  "kernelspec": {
   "display_name": "Python3 (DeepCode)",
   "language": "python",
   "name": "deepcode"
  },
  "language_info": {
   "codemirror_mode": {
    "name": "ipython",
    "version": 3
   },
   "file_extension": ".py",
   "mimetype": "text/x-python",
   "name": "python",
   "nbconvert_exporter": "python",
   "pygments_lexer": "ipython3",
   "version": "3.13.1"
  }
 },
 "nbformat": 4,
 "nbformat_minor": 5
}
